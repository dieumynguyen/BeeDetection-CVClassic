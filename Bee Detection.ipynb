{
 "cells": [
  {
   "cell_type": "code",
   "execution_count": 1,
   "metadata": {
    "ExecuteTime": {
     "end_time": "2019-03-29T06:40:47.855095Z",
     "start_time": "2019-03-29T06:40:46.672534Z"
    }
   },
   "outputs": [],
   "source": [
    "import sys\n",
    "import numpy as np\n",
    "import cv2\n",
    "import matplotlib.pyplot as plt\n",
    "import matplotlib.patches as patches\n",
    "import matplotlib.gridspec as gridspec\n",
    "from matplotlib import cm\n",
    "import scipy\n",
    "import scipy.signal\n",
    "from scipy.ndimage.filters import gaussian_filter\n",
    "from skimage.morphology import opening, binary_erosion, binary_opening, binary_closing"
   ]
  },
  {
   "cell_type": "code",
   "execution_count": 2,
   "metadata": {
    "ExecuteTime": {
     "end_time": "2019-03-29T06:40:47.862387Z",
     "start_time": "2019-03-29T06:40:47.858217Z"
    }
   },
   "outputs": [],
   "source": [
    "# https://ipython.readthedocs.io/en/stable/config/options/terminal.html\n",
    "from IPython.core.interactiveshell import InteractiveShell\n",
    "InteractiveShell.ast_node_interactivity = \"last_expr\""
   ]
  },
  {
   "cell_type": "code",
   "execution_count": 3,
   "metadata": {
    "ExecuteTime": {
     "end_time": "2019-03-29T06:40:47.880460Z",
     "start_time": "2019-03-29T06:40:47.867015Z"
    }
   },
   "outputs": [],
   "source": [
    "def threshold_image(img, show=False):\n",
    "    _, img_otsu = cv2.threshold(img, 0, 255, cv2.THRESH_OTSU+cv2.THRESH_TOZERO)\n",
    "    _, img_otsu_binary = cv2.threshold(img_otsu, 0, 255, cv2.THRESH_BINARY_INV)\n",
    "    \n",
    "    if show:\n",
    "        fig, ax = plt.subplots(1,3,figsize=(18,12))\n",
    "        ax[0].imshow(img, cmap=plt.cm.gray)\n",
    "        ax[0].set_title(\"Original\")\n",
    "        ax[1].imshow(img_otsu, cmap=plt.cm.gray)\n",
    "        ax[1].set_title(\"Otsu To Zero\")\n",
    "        ax[2].imshow(img_otsu_binary, cmap=plt.cm.gray)\n",
    "        ax[2].set_title(\"Otsu Binary\")\n",
    "        \n",
    "    return img_otsu_binary"
   ]
  },
  {
   "cell_type": "code",
   "execution_count": 4,
   "metadata": {
    "ExecuteTime": {
     "end_time": "2019-03-29T06:40:47.894067Z",
     "start_time": "2019-03-29T06:40:47.884680Z"
    }
   },
   "outputs": [],
   "source": [
    "def get_erroded_img(img, local=False, global_threshold=70, show=False):\n",
    "    if local:\n",
    "        eroded_img = binary_opening(img)\n",
    "    else:\n",
    "        global_thresh_img = ~(img > global_threshold)\n",
    "        eroded_img = binary_opening(global_thresh_img)\n",
    "    \n",
    "    if show:\n",
    "        fig, ax = plt.subplots(1,2,figsize=(18,12))\n",
    "        ax[0].imshow(img, cmap=plt.cm.gray)\n",
    "        ax[0].set_title(\"Original\")\n",
    "        ax[1].imshow(eroded_img, cmap=plt.cm.gray)\n",
    "        ax[1].set_title(\"Eroded Image\")\n",
    "        \n",
    "    return eroded_img"
   ]
  },
  {
   "cell_type": "code",
   "execution_count": 5,
   "metadata": {
    "ExecuteTime": {
     "end_time": "2019-03-29T06:40:47.907878Z",
     "start_time": "2019-03-29T06:40:47.898939Z"
    }
   },
   "outputs": [],
   "source": [
    "def edge_detection(img):\n",
    "    # Set img to apply Canny detection\n",
    "    im = img.astype(np.float)\n",
    "    edge_img = cv2.Canny((im*255).astype(np.uint8), 10, 100)\n",
    "\n",
    "    # Gauss Blur (helps with stronger edges)\n",
    "    edge_img = cv2.GaussianBlur(edge_img, (3,3), 0)\n",
    "\n",
    "    # Otsu threshold + binary again\n",
    "    _, edge_img = cv2.threshold(edge_img, 0, 255, cv2.THRESH_BINARY+cv2.THRESH_OTSU)\n",
    "\n",
    "    # Plot\n",
    "    fig, ax = plt.subplots(1, 2, figsize=(20,12))\n",
    "    _ = ax[0].imshow(img, cmap=plt.cm.gray)\n",
    "    _ = ax[0].set_title('Original')\n",
    "    _ = ax[1].imshow(edge_img, cmap=plt.cm.gray)\n",
    "    _ = ax[1].set_title('Canny Edges')"
   ]
  },
  {
   "cell_type": "code",
   "execution_count": 520,
   "metadata": {
    "ExecuteTime": {
     "end_time": "2019-03-29T08:05:13.181823Z",
     "start_time": "2019-03-29T08:05:13.166096Z"
    }
   },
   "outputs": [],
   "source": [
    "def create_overlay_img(img_original, stats, centroids, label_color=None, bee_type='good', show=True, final=False):\n",
    "    \n",
    "    overlay_img = np.copy(img_original).astype(np.uint8)\n",
    "    \n",
    "    # Generate overlay image\n",
    "    if len(img_original.shape) == 2:\n",
    "        overlay_img = cv2.cvtColor(overlay_img, cv2.COLOR_GRAY2RGB)\n",
    "    \n",
    "    if overlay_img.max() == 1:\n",
    "        overlay_img *= 255\n",
    "        \n",
    "    if label_color is None:\n",
    "        label_color = (0,255,0) if bee_type is 'good' else (255, 0, 0)\n",
    "    \n",
    "    # Queen\n",
    "    cv2.circle(overlay_img, (QUEEN_X, QUEEN_Y), 60, (255, 0, 0), -1)\n",
    "    \n",
    "    # Workers\n",
    "    distances = []\n",
    "    for stat, centroid in zip(stats, centroids):\n",
    "        top_left = tuple(stat[:2])\n",
    "        h,w = stat[2:4]\n",
    "        bottom_right = (top_left[0]+h, top_left[1]+w)\n",
    "        centroid_x, centroid_y = centroid.astype(np.int)\n",
    "        \n",
    "        cv2.line(overlay_img, (centroid_x, centroid_y), (QUEEN_X, QUEEN_Y), (102, 0, 255), LINE_THICKNESS)\n",
    "        cv2.rectangle(overlay_img, top_left, bottom_right, label_color, BOX_SIZE)\n",
    "        cv2.circle(overlay_img, (centroid_x, centroid_y), DOT_SIZE, label_color, -1)\n",
    "    \n",
    "        dx = QUEEN_X-centroid_x\n",
    "        dy = QUEEN_Y-centroid_y\n",
    "        distance_i = int(np.sqrt((dx)**2 + (dy)**2))\n",
    "        distances.append(distance_i)\n",
    "        distance_str = f\"{distance_i} px\"\n",
    "        cv2.putText(overlay_img, distance_str, (centroid_x, centroid_y), FONT, FONT_SIZE, (255, 255, 255), 2, cv2.LINE_AA)\n",
    "    \n",
    "    if final:\n",
    "        # Num detections\n",
    "        num_detections = len(centroids)\n",
    "        cv2.putText(overlay_img, f\"Num Detections: {num_detections}\", (150, 150), FONT, 2, (255, 255, 255), 4, cv2.LINE_AA)\n",
    "        \n",
    "        ave_distance = int(np.mean(distances))\n",
    "        ave_distance_str = f\"Ave Distance: {ave_distance} px\"\n",
    "        cv2.putText(overlay_img, ave_distance_str, (150, 210), FONT, 2, (255, 255, 255), 4, cv2.LINE_AA)\n",
    "        \n",
    "    \n",
    "    if show:\n",
    "        fig, ax = plt.subplots(figsize=(12,12))\n",
    "        ax.imshow(overlay_img)\n",
    "        \n",
    "    return overlay_img"
   ]
  },
  {
   "cell_type": "code",
   "execution_count": 521,
   "metadata": {
    "ExecuteTime": {
     "end_time": "2019-03-29T08:05:13.585352Z",
     "start_time": "2019-03-29T08:05:13.575567Z"
    }
   },
   "outputs": [],
   "source": [
    "def run_connected_components(img, min_factor=0.00001, max_factor=0.3, prev_stats=None):\n",
    "    img = np.copy(img).astype(np.uint8)\n",
    "    \n",
    "    # Run connected components\n",
    "    num_regions, regions, stats, centroids = cv2.connectedComponentsWithStats(img)\n",
    "    \n",
    "    # Filter out by area\n",
    "    MIN_AREA = np.product(img.shape[:2])*min_factor\n",
    "    MAX_AREA = np.product(img.shape[:2])*max_factor # Half of image area\n",
    "    \n",
    "    condition = (stats[:,-1] < MAX_AREA) & (stats[:,-1] > MIN_AREA)\n",
    "\n",
    "    new_stats = stats[condition]\n",
    "    new_centroids = centroids[condition]\n",
    "    \n",
    "    if len(new_centroids) == 0:\n",
    "        return None, None\n",
    "    \n",
    "    if prev_stats is None:\n",
    "        stats = {\n",
    "            \"local\"  : new_stats,\n",
    "            \"global\" : new_stats\n",
    "        }\n",
    "        centroids = new_centroids\n",
    "    else:\n",
    "        global_stats = np.copy(new_stats)\n",
    "        for crop_i in range(len(global_stats)):\n",
    "            global_stats[crop_i,:2] += prev_stats[:2]\n",
    "        stats = {\n",
    "            \"local\"  : new_stats,\n",
    "            \"global\" : global_stats\n",
    "        }\n",
    "        centroids = new_centroids\n",
    "        for centroid_i in range(len(centroids)):\n",
    "            centroids[centroid_i][0] += prev_stats[0]\n",
    "            centroids[centroid_i][1] += prev_stats[1]\n",
    "        \n",
    "    return stats, centroids"
   ]
  },
  {
   "cell_type": "code",
   "execution_count": 522,
   "metadata": {
    "ExecuteTime": {
     "end_time": "2019-03-29T08:05:13.771162Z",
     "start_time": "2019-03-29T08:05:13.766035Z"
    }
   },
   "outputs": [],
   "source": [
    "def get_squarish_rows_cols(num):\n",
    "    factors = [i for i in range(2, num)[::-1] if num%i==0]\n",
    "    if len(factors) == 1:\n",
    "        rows, cols = factors[0], factors[0]\n",
    "    elif len(factors) == 0:\n",
    "        rows, cols = num, 1\n",
    "    else:\n",
    "        mid = len(factors)//2\n",
    "        rows = factors[mid]\n",
    "        cols = factors[mid-1]\n",
    "    return rows, cols"
   ]
  },
  {
   "cell_type": "code",
   "execution_count": 523,
   "metadata": {
    "ExecuteTime": {
     "end_time": "2019-03-29T08:05:13.860939Z",
     "start_time": "2019-03-29T08:05:13.855483Z"
    }
   },
   "outputs": [],
   "source": [
    "def crop_bees(img, stats):\n",
    "    src_img = np.copy(img)\n",
    "    cropped_imgs = []\n",
    "    for stat in stats:\n",
    "        top_left_x, top_left_y = stat[:2]\n",
    "        h,w = stat[2:4]\n",
    "        bottom_right = (top_left_x+h, top_left_y+w)\n",
    "        cropped_img = src_img[top_left_y:top_left_y+w, top_left_x:top_left_x+h]\n",
    "        cropped_imgs.append(cropped_img)\n",
    "    try:\n",
    "        cropped_imgs = np.array(cropped_imgs)\n",
    "    except:\n",
    "        cropped_imgs = None\n",
    "        \n",
    "    return cropped_imgs"
   ]
  },
  {
   "cell_type": "code",
   "execution_count": 524,
   "metadata": {
    "ExecuteTime": {
     "end_time": "2019-03-29T08:05:14.049038Z",
     "start_time": "2019-03-29T08:05:14.039705Z"
    }
   },
   "outputs": [],
   "source": [
    "def plot_cropped_imgs(cropped_imgs, stats):\n",
    "    nrows, ncols = get_squarish_rows_cols(len(cropped_imgs))\n",
    "    \n",
    "    if nrows == 1:\n",
    "        if ncols > 10:\n",
    "            fig, ax = plt.subplots(ncols, figsize=(12,12 + 2*ncols))\n",
    "        else:\n",
    "            fig, ax = plt.subplots(1, ncols, figsize=(12,12))\n",
    "        for img_i in range(ncols):\n",
    "            ax_i = ax[img_i]\n",
    "            ax_i.imshow(cropped_imgs[img_i], cmap=plt.cm.gray)\n",
    "            ax_i.set_title(f\"Img {img_i}\\nArea: {stats[img_i][-1]}\")\n",
    "    elif ncols == 1:\n",
    "        if nrows > 10:\n",
    "            fig, ax = plt.subplots(nrows, figsize=(12,12 + 2*nrows))\n",
    "        else:\n",
    "            fig, ax = plt.subplots(1, nrows, figsize=(12,12))\n",
    "        for img_i in range(nrows):\n",
    "            ax_i = ax[img_i]\n",
    "            ax_i.imshow(cropped_imgs[img_i], cmap=plt.cm.gray)\n",
    "            ax_i.set_title(f\"Img {img_i}\\nArea: {stats[img_i][-1]}\")\n",
    "    else:\n",
    "        fig, ax = plt.subplots(nrows, ncols, figsize=(12,12))\n",
    "        img_i = 0\n",
    "        for row_i in range(nrows):\n",
    "            for col_i in range(ncols):\n",
    "                ax_i = ax[row_i][col_i]\n",
    "                ax_i.imshow(cropped_imgs[img_i], cmap=plt.cm.gray)\n",
    "                ax_i.set_title(f\"Img {img_i}\\nArea: {stats[img_i][-1]}\")\n",
    "                img_i += 1\n",
    "    plt.tight_layout()"
   ]
  },
  {
   "cell_type": "code",
   "execution_count": 525,
   "metadata": {
    "ExecuteTime": {
     "end_time": "2019-03-29T08:05:14.235498Z",
     "start_time": "2019-03-29T08:05:14.225985Z"
    }
   },
   "outputs": [],
   "source": [
    "def sort_bees(stats, centroids):\n",
    "    good_bees = {\"stats\" : {\"global\" : [], \"local\" : []}, \"centroids\" : []}\n",
    "    bad_bees = {\"stats\" : {\"global\" : [], \"local\" : []}, \"centroids\" : []}\n",
    "    \n",
    "    for i in range(len(centroids)):\n",
    "        centroid = centroids[i]\n",
    "        local_stat = stats['local'][i]\n",
    "        global_stat = stats['global'][i]\n",
    "        area = global_stat[-1]\n",
    "        if area <= SINGLE_BEE_AREA_THRESHOLD:\n",
    "            container = good_bees\n",
    "        else:\n",
    "            container = bad_bees\n",
    "            \n",
    "        container['stats']['global'].append(global_stat)\n",
    "        container['stats']['local'].append(local_stat)\n",
    "        container['centroids'].append(centroid)\n",
    "    \n",
    "    if good_bees['stats']['global'] == []:\n",
    "        good_bees = None\n",
    "    \n",
    "    if bad_bees['stats']['global'] == []:\n",
    "        bad_bees = None\n",
    "        \n",
    "    return good_bees, bad_bees"
   ]
  },
  {
   "cell_type": "code",
   "execution_count": 526,
   "metadata": {
    "ExecuteTime": {
     "end_time": "2019-03-29T08:05:14.473684Z",
     "start_time": "2019-03-29T08:05:14.468545Z"
    }
   },
   "outputs": [],
   "source": [
    "def update_bees(container, bees):\n",
    "    local_bee_stats = np.array(bees['stats']['local'])\n",
    "    global_bee_stats = np.array(bees['stats']['global'])\n",
    "    bee_centroids = np.array(bees['centroids'])\n",
    "    \n",
    "    if container['stats']['local'] is not None: \n",
    "        container['stats']['local'] = np.concatenate([container['stats']['local'], local_bee_stats], axis=0)\n",
    "        container['stats']['global'] = np.concatenate([container['stats']['global'], global_bee_stats], axis=0)\n",
    "        container['centroids'] = np.concatenate([container['centroids'], bee_centroids], axis=0)\n",
    "    else:\n",
    "        container['stats']['local'] = local_bee_stats\n",
    "        container['stats']['global'] = global_bee_stats\n",
    "        container['centroids'] = bee_centroids\n"
   ]
  },
  {
   "cell_type": "code",
   "execution_count": 527,
   "metadata": {
    "ExecuteTime": {
     "end_time": "2019-03-29T08:05:14.577195Z",
     "start_time": "2019-03-29T08:05:14.572264Z"
    }
   },
   "outputs": [],
   "source": [
    "def update_overlay(overlay_img, color_i, all_good_bees, new_bad_bee_batch, bee_types='good'):\n",
    "    if bee_types == 'bad':\n",
    "        bee_type = 'bad'\n",
    "    overlay_img = create_overlay_img(overlay_img, bee_type=bee_type, show=False, \n",
    "                                     label_color=color_i,\n",
    "                                     stats=all_good_bees['stats']['global'], \n",
    "                                     centroids=all_good_bees['centroids'])\n",
    "\n",
    "    if new_bad_bee_batch['centroids'] is not None:\n",
    "        overlay_img = create_overlay_img(overlay_img, bee_type='bad', show=False,\n",
    "                                         stats=new_bad_bee_batch['stats']['global'], \n",
    "                                         centroids=new_bad_bee_batch['centroids'])\n",
    "    return overlay_img"
   ]
  },
  {
   "cell_type": "code",
   "execution_count": 528,
   "metadata": {
    "ExecuteTime": {
     "end_time": "2019-03-29T08:05:14.689468Z",
     "start_time": "2019-03-29T08:05:14.682354Z"
    }
   },
   "outputs": [],
   "source": [
    "class VideoLoader:\n",
    "    def __init__(self, vid_path, color=True, img_limit=None, img_skip=1, start_i=0, end_i=None):\n",
    "        self.vid_path = vid_path\n",
    "        self.img_limit = img_limit\n",
    "        self.img_skip = img_skip\n",
    "        self.start_i = start_i\n",
    "        self.end_i = end_i\n",
    "        self.color_xform = cv2.COLOR_BGR2RGB if color else cv2.COLOR_BGR2GRAY\n",
    "        \n",
    "        self._open_stream(vid_path)\n",
    "        self.num_images_loaded = 0\n",
    "        \n",
    "    def _open_stream(self, vid_path):\n",
    "        self.cap = cv2.VideoCapture(vid_path)\n",
    "        \n",
    "    def __iter__(self):\n",
    "        self.frame_i = 0\n",
    "        self.num_images_loaded = 0\n",
    "        return self\n",
    "\n",
    "    def __next__(self):\n",
    "        # Read frame and increment frame counter\n",
    "        ret, frame = self.cap.read()\n",
    "        self.frame_i += 1\n",
    "        \n",
    "        # Check for image limi\n",
    "        if (self.img_limit and self.num_images_loaded >= self.img_limit) or (self.end_i is not None and self.frame_i >= self.end_i):\n",
    "            raise StopIteration\n",
    "        # Check image skip\n",
    "        elif (self.frame_i % self.img_skip != 0) or (self.frame_i < self.start_i):\n",
    "            frame = self.__next__()\n",
    "        else:\n",
    "            if frame is None:\n",
    "                raise StopIteration\n",
    "            \n",
    "            frame = cv2.cvtColor(frame, self.color_xform)\n",
    "            self.num_images_loaded += 1\n",
    "                \n",
    "        return frame"
   ]
  },
  {
   "cell_type": "code",
   "execution_count": 529,
   "metadata": {
    "ExecuteTime": {
     "end_time": "2019-03-29T08:05:14.774641Z",
     "start_time": "2019-03-29T08:05:14.762372Z"
    }
   },
   "outputs": [],
   "source": [
    "def run(img):\n",
    "    all_good_bees = {\"stats\" : {\"global\" : None, \"local\" : None}, \"centroids\" : None}\n",
    "    remaining_bad_bees = None\n",
    "\n",
    "    src_img = np.copy(img)\n",
    "    \n",
    "#     clahe = cv2.createCLAHE(clipLimit=3.0, tileGridSize=(19,19))\n",
    "#     cl1 = clahe.apply(img)\n",
    "#     print(cl)\n",
    "    \n",
    "#     src_img = threshold_image(src_img.astype(np.uint8), show=False)\n",
    "    src_img = get_erroded_img(src_img, local=LOCAL, global_threshold=GLOBAL_TRHESHOLD, show=False)\n",
    "    \n",
    "    new_stats, new_centroids = run_connected_components(src_img, min_factor=MIN_FACTOR, max_factor=MAX_FACTOR)\n",
    "    good_bees, bad_bees = sort_bees(new_stats, new_centroids)\n",
    "    update_bees(all_good_bees, good_bees)\n",
    "\n",
    "    overlay_img = np.copy(img)\n",
    "    \n",
    "    for i in range(NUM_ITERATIONS):\n",
    "        color_i = np.array(cmap(i/NUM_ITERATIONS)[:3])*255\n",
    "        new_stats = bad_bees['stats']\n",
    "        new_centroids = bad_bees['centroids']\n",
    "\n",
    "        cropped_imgs = crop_bees(src_img, new_stats['local'])\n",
    "        if cropped_imgs is None:\n",
    "            continue\n",
    "            \n",
    "        new_bad_bee_batch = {\"stats\" : {\"global\" : None, \"local\" : None}, \"centroids\" : None} \n",
    "        for crop_i, cropped_img in enumerate(cropped_imgs):\n",
    "            prev_centroids = new_centroids[crop_i]\n",
    "            prev_stats = {\n",
    "                \"local\"  : new_stats['local'][crop_i],\n",
    "                \"global\" : new_stats['global'][crop_i],\n",
    "            }\n",
    "\n",
    "            src_img = np.copy(cropped_img)\n",
    "            src_img = get_erroded_img(src_img, local=False, show=False)\n",
    "#             src_img = threshold_image(src_img.astype(np.uint8), show=False)\n",
    "            \n",
    "            new_stats_i, new_centroids_i = run_connected_components(src_img, prev_stats=prev_stats['global'])\n",
    "\n",
    "            if new_centroids_i is None:\n",
    "                prev_stats['local'] = np.expand_dims(prev_stats['local'], axis=0)\n",
    "                prev_stats['global'] = np.expand_dims(prev_stats['global'], axis=0)\n",
    "                prev_centroids = np.expand_dims(prev_centroids, axis=0)\n",
    "                bad_bees_end = {\n",
    "                    \"stats\"     : prev_stats,\n",
    "                    \"centroids\" : prev_centroids\n",
    "                }\n",
    "                update_bees(all_good_bees, bad_bees_end)\n",
    "                overlay_img = update_overlay(overlay_img, color_i, all_good_bees, new_bad_bee_batch, bee_types='bad')\n",
    "                continue\n",
    "\n",
    "            new_good_bees, new_bad_bees = sort_bees(new_stats_i, new_centroids_i)\n",
    "\n",
    "            if new_good_bees is not None:\n",
    "                update_bees(all_good_bees, new_good_bees)\n",
    "            if new_bad_bees is not None:\n",
    "                update_bees(new_bad_bee_batch, new_bad_bees)\n",
    "\n",
    "            overlay_img = update_overlay(overlay_img, color_i, all_good_bees, new_bad_bee_batch)\n",
    "\n",
    "        if new_bad_bee_batch['centroids'] is not None:\n",
    "            bad_bees = new_bad_bee_batch\n",
    "        else:\n",
    "            bad_bees = None\n",
    "            break\n",
    "\n",
    "    if bad_bees is not None:\n",
    "        remaining_bad_bees = bad_bees  \n",
    "\n",
    "    # Plot overlays\n",
    "    overlay_img = create_overlay_img(overlay_img, bee_type='good', show=False, final=True,\n",
    "                                     stats=all_good_bees['stats']['global'], \n",
    "                                     centroids=all_good_bees['centroids'])\n",
    "\n",
    "    if remaining_bad_bees is not None:\n",
    "        overlay_img = create_overlay_img(overlay_img, bee_type='bad', show=False,\n",
    "                                         stats=remaining_bad_bees['stats']['global'], \n",
    "                                         centroids=remaining_bad_bees['centroids'])\n",
    "\n",
    "\n",
    "    return overlay_img\n"
   ]
  },
  {
   "cell_type": "code",
   "execution_count": 579,
   "metadata": {
    "ExecuteTime": {
     "end_time": "2019-03-29T08:12:18.164483Z",
     "start_time": "2019-03-29T08:11:58.367200Z"
    }
   },
   "outputs": [
    {
     "name": "stdout",
     "output_type": "stream",
     "text": [
      "Image 10"
     ]
    }
   ],
   "source": [
    "movie_name = \"full_bees_trim_2.mp4\" # \"full_bees.mp4\", \"bees.mov\"\n",
    "\n",
    "slices = {\n",
    "    \"bees.mov\" : {\n",
    "        \"slice_r\" : slice(0,550),\n",
    "        \"slice_c\" : slice(100,None),\n",
    "    },\n",
    "    \"full_bees_trim.mp4\" : {\n",
    "        \"slice_r\" : slice(100,1800), \n",
    "        \"slice_c\" : slice(850, 2650)\n",
    "    },\n",
    "    \"full_bees_trim_2.mp4\" : {\n",
    "        \"slice_r\" : slice(100,1800), \n",
    "        \"slice_c\" : slice(850, 2650)\n",
    "    }\n",
    "}\n",
    "\n",
    "queen_positions = {\n",
    "    \"full_bees_trim.mp4\" : {\n",
    "        \"x\" : 1410,\n",
    "        \"y\" : 360\n",
    "    },\n",
    "    \"full_bees_trim_2.mp4\" : {\n",
    "        \"x\" : 1410,\n",
    "        \"y\" : 360\n",
    "    }\n",
    "}\n",
    "\n",
    "slice_r = slices[movie_name]['slice_r']\n",
    "slice_c = slices[movie_name]['slice_c']\n",
    "\n",
    "START_I = 0\n",
    "STOP_I = 10\n",
    "\n",
    "QUEEN_X = queen_positions[movie_name]['x']\n",
    "QUEEN_Y = queen_positions[movie_name]['y']\n",
    "\n",
    "LINE_THICKNESS = 1\n",
    "\n",
    "SINGLE_BEE_AREA_THRESHOLD = 400\n",
    "\n",
    "LOCAL = False\n",
    "NUM_ITERATIONS = 4\n",
    "cmap = plt.cm.cool\n",
    "MIN_FACTOR = 0.0001\n",
    "MAX_FACTOR = 0.025\n",
    "BOX_SIZE = 2\n",
    "DOT_SIZE = 5\n",
    "GLOBAL_TRHESHOLD = 75\n",
    "\n",
    "FONT = cv2.FONT_HERSHEY_SIMPLEX\n",
    "FONT_SIZE = 1\n",
    "\n",
    "NUM_ITERS = 10\n",
    "overlay_imgs = []\n",
    "\n",
    "vid = VideoLoader(f\"../src_data/Orit/{movie_name}\") \n",
    "\n",
    "try:\n",
    "    for img_i, img in enumerate(vid):\n",
    "    \n",
    "        if img_i < START_I:\n",
    "            sys.stdout.write('\\rWaiting...')\n",
    "            sys.stdout.flush()\n",
    "            continue\n",
    "        elif img_i >= STOP_I:\n",
    "            break\n",
    "        img = img[slice_r, slice_c]\n",
    "        img = cv2.cvtColor(img, cv2.COLOR_BGR2GRAY)\n",
    "        try:\n",
    "            overlay_img = run(img) \n",
    "        except Exception as e:\n",
    "            print(f\"E: {e}\")\n",
    "            continue\n",
    "        overlay_imgs.append(overlay_img)\n",
    "        \n",
    "        sys.stdout.write(f'\\rImage {img_i+1}')\n",
    "        sys.stdout.flush()\n",
    "        \n",
    "except KeyboardInterrupt:\n",
    "    print(\"\\nKeyboard Interrupt. Finished.\")\n",
    "    pass\n"
   ]
  },
  {
   "cell_type": "code",
   "execution_count": 580,
   "metadata": {
    "ExecuteTime": {
     "end_time": "2019-03-29T08:12:28.727319Z",
     "start_time": "2019-03-29T08:12:28.722397Z"
    }
   },
   "outputs": [],
   "source": [
    "def imgs2vid(imgs, outpath, fps=12):\n",
    "    height, width = imgs[0].shape[0:2]\n",
    "        \n",
    "    fourcc = cv2.VideoWriter_fourcc(\"m\", \"p\", \"4\", \"v\")\n",
    "    video = cv2.VideoWriter(outpath, fourcc, fps, (width, height), True)\n",
    "    \n",
    "    for img in imgs:\n",
    "        video.write(img)\n",
    "    \n",
    "    cv2.destroyAllWindows()\n",
    "    video.release()"
   ]
  },
  {
   "cell_type": "code",
   "execution_count": 581,
   "metadata": {
    "ExecuteTime": {
     "end_time": "2019-03-29T08:12:29.129294Z",
     "start_time": "2019-03-29T08:12:29.075925Z"
    }
   },
   "outputs": [],
   "source": [
    "overlay_imgs = [cv2.cvtColor(img, cv2.COLOR_RGB2BGR) for img in overlay_imgs]"
   ]
  },
  {
   "cell_type": "code",
   "execution_count": 582,
   "metadata": {
    "ExecuteTime": {
     "end_time": "2019-03-29T08:12:29.472896Z",
     "start_time": "2019-03-29T08:12:29.467346Z"
    }
   },
   "outputs": [
    {
     "data": {
      "text/plain": [
       "10"
      ]
     },
     "execution_count": 582,
     "metadata": {},
     "output_type": "execute_result"
    }
   ],
   "source": [
    "len(overlay_imgs)"
   ]
  },
  {
   "cell_type": "code",
   "execution_count": 583,
   "metadata": {
    "ExecuteTime": {
     "end_time": "2019-03-29T08:12:30.239034Z",
     "start_time": "2019-03-29T08:12:29.878423Z"
    }
   },
   "outputs": [],
   "source": [
    "imgs2vid(overlay_imgs, movie_name)"
   ]
  },
  {
   "cell_type": "code",
   "execution_count": 584,
   "metadata": {
    "ExecuteTime": {
     "end_time": "2019-03-29T08:12:30.534818Z",
     "start_time": "2019-03-29T08:12:30.341264Z"
    }
   },
   "outputs": [],
   "source": [
    "!open ."
   ]
  },
  {
   "cell_type": "code",
   "execution_count": null,
   "metadata": {},
   "outputs": [],
   "source": []
  },
  {
   "cell_type": "code",
   "execution_count": null,
   "metadata": {},
   "outputs": [],
   "source": []
  },
  {
   "cell_type": "code",
   "execution_count": null,
   "metadata": {},
   "outputs": [],
   "source": []
  }
 ],
 "metadata": {
  "kernelspec": {
   "display_name": "Python 3",
   "language": "python",
   "name": "python3"
  },
  "language_info": {
   "codemirror_mode": {
    "name": "ipython",
    "version": 3
   },
   "file_extension": ".py",
   "mimetype": "text/x-python",
   "name": "python",
   "nbconvert_exporter": "python",
   "pygments_lexer": "ipython3",
   "version": "3.7.2"
  },
  "toc": {
   "base_numbering": 1,
   "nav_menu": {},
   "number_sections": true,
   "sideBar": true,
   "skip_h1_title": false,
   "title_cell": "Table of Contents",
   "title_sidebar": "Contents",
   "toc_cell": false,
   "toc_position": {},
   "toc_section_display": true,
   "toc_window_display": false
  },
  "varInspector": {
   "cols": {
    "lenName": 16,
    "lenType": 16,
    "lenVar": 40
   },
   "kernels_config": {
    "python": {
     "delete_cmd_postfix": "",
     "delete_cmd_prefix": "del ",
     "library": "var_list.py",
     "varRefreshCmd": "print(var_dic_list())"
    },
    "r": {
     "delete_cmd_postfix": ") ",
     "delete_cmd_prefix": "rm(",
     "library": "var_list.r",
     "varRefreshCmd": "cat(var_dic_list()) "
    }
   },
   "types_to_exclude": [
    "module",
    "function",
    "builtin_function_or_method",
    "instance",
    "_Feature"
   ],
   "window_display": false
  }
 },
 "nbformat": 4,
 "nbformat_minor": 2
}
