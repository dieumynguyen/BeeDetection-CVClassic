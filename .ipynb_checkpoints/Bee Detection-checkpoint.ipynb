{
 "cells": [
  {
   "cell_type": "code",
   "execution_count": 1,
   "metadata": {
    "ExecuteTime": {
     "end_time": "2019-03-29T16:24:51.502951Z",
     "start_time": "2019-03-29T16:24:51.479032Z"
    }
   },
   "outputs": [],
   "source": [
    "%load_ext autoreload\n",
    "%autoreload 2"
   ]
  },
  {
   "cell_type": "code",
   "execution_count": 18,
   "metadata": {
    "ExecuteTime": {
     "end_time": "2019-03-29T16:25:38.380744Z",
     "start_time": "2019-03-29T16:25:38.353955Z"
    }
   },
   "outputs": [],
   "source": [
    "import os\n",
    "import sys\n",
    "import numpy as np\n",
    "import cv2\n",
    "import matplotlib.pyplot as plt\n",
    "import matplotlib.patches as patches\n",
    "import matplotlib.gridspec as gridspec\n",
    "from matplotlib import cm\n",
    "import scipy\n",
    "import scipy.signal\n",
    "from scipy.ndimage.filters import gaussian_filter\n",
    "from skimage.morphology import opening, binary_erosion, binary_opening, binary_closing\n",
    "\n",
    "import modules.utils as utils\n",
    "\n",
    "# https://ipython.readthedocs.io/en/stable/config/options/terminal.html\n",
    "from IPython.core.interactiveshell import InteractiveShell\n",
    "InteractiveShell.ast_node_interactivity = \"last_expr\""
   ]
  },
  {
   "cell_type": "markdown",
   "metadata": {},
   "source": [
    "# Image Thresholding"
   ]
  },
  {
   "cell_type": "code",
   "execution_count": 54,
   "metadata": {
    "ExecuteTime": {
     "end_time": "2019-03-29T16:41:56.128848Z",
     "start_time": "2019-03-29T16:41:56.097129Z"
    }
   },
   "outputs": [],
   "source": [
    "def otsu_thresholding(img, show=False):\n",
    "    _, img_otsu = cv2.threshold(img, 0, 255, cv2.THRESH_OTSU+cv2.THRESH_TOZERO)\n",
    "    _, img_otsu_binary = cv2.threshold(img_otsu, 0, 255, cv2.THRESH_BINARY_INV)\n",
    "    \n",
    "    if show:\n",
    "        fig, ax = plt.subplots(1,3,figsize=(18,12))\n",
    "        ax[0].imshow(img, cmap=plt.cm.gray)\n",
    "        ax[0].set_title(\"Original\")\n",
    "        ax[1].imshow(img_otsu, cmap=plt.cm.gray)\n",
    "        ax[1].set_title(\"Otsu To Zero\")\n",
    "        ax[2].imshow(img_otsu_binary, cmap=plt.cm.gray)\n",
    "        ax[2].set_title(\"Otsu Binary\")\n",
    "        \n",
    "    return img_otsu_binary"
   ]
  },
  {
   "cell_type": "code",
   "execution_count": 55,
   "metadata": {
    "ExecuteTime": {
     "end_time": "2019-03-29T16:41:56.296485Z",
     "start_time": "2019-03-29T16:41:56.265857Z"
    }
   },
   "outputs": [],
   "source": [
    "def global_thresholding(img, global_threshold, show=False):\n",
    "    thresh_img = ~(img > global_threshold)\n",
    "    thresh_img = binary_opening(thresh_img)\n",
    "    \n",
    "    if show:\n",
    "        fig, ax = plt.subplots(1,2,figsize=(18,12))\n",
    "        ax[0].imshow(img, cmap=plt.cm.gray)\n",
    "        ax[0].set_title(\"Original\")\n",
    "        ax[1].imshow(thresh_img, cmap=plt.cm.gray)\n",
    "        ax[1].set_title(\"Eroded Image\")\n",
    "        \n",
    "    return thresh_img"
   ]
  },
  {
   "cell_type": "code",
   "execution_count": 56,
   "metadata": {
    "ExecuteTime": {
     "end_time": "2019-03-29T16:41:56.446179Z",
     "start_time": "2019-03-29T16:41:56.410595Z"
    }
   },
   "outputs": [],
   "source": [
    "def erode_image(img, local=False, global_threshold=70, show=False):\n",
    "    if local:\n",
    "        eroded_img = binary_opening(img)\n",
    "    else:\n",
    "        global_thresh_img = ~(img > global_threshold)\n",
    "        eroded_img = binary_opening(global_thresh_img)\n",
    "    \n",
    "    if show:\n",
    "        fig, ax = plt.subplots(1,2,figsize=(18,12))\n",
    "        ax[0].imshow(img, cmap=plt.cm.gray)\n",
    "        ax[0].set_title(\"Original\")\n",
    "        ax[1].imshow(eroded_img, cmap=plt.cm.gray)\n",
    "        ax[1].set_title(\"Eroded Image\")\n",
    "        \n",
    "    return eroded_img"
   ]
  },
  {
   "cell_type": "markdown",
   "metadata": {},
   "source": [
    "# Edge Detection"
   ]
  },
  {
   "cell_type": "code",
   "execution_count": 57,
   "metadata": {
    "ExecuteTime": {
     "end_time": "2019-03-29T16:41:56.699489Z",
     "start_time": "2019-03-29T16:41:56.666354Z"
    }
   },
   "outputs": [],
   "source": [
    "def edge_detection(img):\n",
    "    # Set img to apply Canny detection\n",
    "    im = img.astype(np.float)\n",
    "    edge_img = cv2.Canny((im*255).astype(np.uint8), 10, 100)\n",
    "\n",
    "    # Gauss Blur (helps with stronger edges)\n",
    "    edge_img = cv2.GaussianBlur(edge_img, (3,3), 0)\n",
    "\n",
    "    # Otsu threshold + binary again\n",
    "    _, edge_img = cv2.threshold(edge_img, 0, 255, cv2.THRESH_BINARY+cv2.THRESH_OTSU)\n",
    "\n",
    "    # Plot\n",
    "    fig, ax = plt.subplots(1, 2, figsize=(20,12))\n",
    "    _ = ax[0].imshow(img, cmap=plt.cm.gray)\n",
    "    _ = ax[0].set_title('Original')\n",
    "    _ = ax[1].imshow(edge_img, cmap=plt.cm.gray)\n",
    "    _ = ax[1].set_title('Canny Edges')"
   ]
  },
  {
   "cell_type": "markdown",
   "metadata": {},
   "source": [
    "# Overlay Image"
   ]
  },
  {
   "cell_type": "code",
   "execution_count": 299,
   "metadata": {
    "ExecuteTime": {
     "end_time": "2019-03-29T17:07:27.077561Z",
     "start_time": "2019-03-29T17:07:26.976622Z"
    }
   },
   "outputs": [],
   "source": [
    "def create_overlay_img(img_original, bees, show=False):\n",
    "    \n",
    "    stats = bees['stats']['global']\n",
    "    centroids = bees['centroids']\n",
    "    label_color = bees['label_color']\n",
    "    \n",
    "    # Image checking\n",
    "    # ============================================================\n",
    "    # Copy image and set to byte\n",
    "    overlay_img = np.copy(img_original).astype(np.uint8)\n",
    "    \n",
    "    # Generate overlay image\n",
    "    if len(img_original.shape) == 2:\n",
    "        overlay_img = cv2.cvtColor(overlay_img, cv2.COLOR_GRAY2RGB)\n",
    "    \n",
    "    # Ensure image in correct range\n",
    "    if overlay_img.max() == 1:\n",
    "        overlay_img *= 255\n",
    "    # ============================================================\n",
    "        \n",
    "    # Queen\n",
    "    cv2.circle(overlay_img, (QUEEN_X, QUEEN_Y), 60, (255, 0, 0), -1)\n",
    "    \n",
    "    # Workers\n",
    "    distances = []\n",
    "    for stat, centroid in zip(stats, centroids):\n",
    "        top_left = tuple(stat[:2])\n",
    "        h,w = stat[2:4]\n",
    "        bottom_right = (top_left[0]+h, top_left[1]+w)\n",
    "        centroid_x, centroid_y = centroid.astype(np.int)\n",
    "        \n",
    "        if SHOW_LINES:\n",
    "            cv2.line(overlay_img, (centroid_x, centroid_y), (QUEEN_X, QUEEN_Y), (102, 0, 255), LINE_THICKNESS)\n",
    "            \n",
    "        if SHOW_BOXES:\n",
    "            cv2.rectangle(overlay_img, top_left, bottom_right, label_color, BOX_SIZE)\n",
    "        \n",
    "        if SHOW_DOTS:\n",
    "            cv2.circle(overlay_img, (centroid_x, centroid_y), DOT_SIZE, label_color, -1)\n",
    "        \n",
    "        if SHOW_TEXT:\n",
    "            dx = QUEEN_X-centroid_x\n",
    "            dy = QUEEN_Y-centroid_y\n",
    "            distance_i = int(np.sqrt((dx)**2 + (dy)**2))\n",
    "            distances.append(distance_i)\n",
    "            distance_str = f\"{distance_i} px\"\n",
    "            cv2.putText(overlay_img, distance_str, (centroid_x, centroid_y), FONT, FONT_SIZE, (255, 255, 255), 2, cv2.LINE_AA)\n",
    "\n",
    "    if SHOW_MAIN_TEXT:    \n",
    "        # Calculate average distance\n",
    "        ave_distance = int(np.mean(distances))\n",
    "        ave_distance_str =   f\"Ave Distance:   {ave_distance} px\"\n",
    "\n",
    "        # Num detections\n",
    "        num_detections_str = f\"Num Detections: {len(centroids)}\"\n",
    "\n",
    "        cv2.putText(overlay_img, num_detections_str, (150, 150), FONT, 2, (255, 255, 255), 5, cv2.LINE_AA)\n",
    "        cv2.putText(overlay_img, ave_distance_str, (150, 210), FONT, 2, (255, 255, 255), 5, cv2.LINE_AA)\n",
    "        \n",
    "    \n",
    "    if show:\n",
    "        fig, ax = plt.subplots(figsize=(12,12))\n",
    "        ax.imshow(overlay_img)\n",
    "        \n",
    "    return overlay_img"
   ]
  },
  {
   "cell_type": "markdown",
   "metadata": {},
   "source": [
    "# Connected Components"
   ]
  },
  {
   "cell_type": "code",
   "execution_count": 206,
   "metadata": {
    "ExecuteTime": {
     "end_time": "2019-03-29T16:49:19.974638Z",
     "start_time": "2019-03-29T16:49:19.937806Z"
    }
   },
   "outputs": [],
   "source": [
    "def run_connected_components(img, min_factor=0.00001, max_factor=0.3, prev_stats=None):\n",
    "    img = np.copy(img).astype(np.uint8)\n",
    "    \n",
    "    # Run connected components\n",
    "    num_regions, regions, stats, centroids = cv2.connectedComponentsWithStats(img)\n",
    "    \n",
    "    # Filter out by area\n",
    "    MIN_AREA = np.product(img.shape[:2])*min_factor\n",
    "    MAX_AREA = np.product(img.shape[:2])*max_factor # Half of image area\n",
    "    \n",
    "    condition = (stats[:,-1] < MAX_AREA) & (stats[:,-1] > MIN_AREA)\n",
    "\n",
    "    new_stats = stats[condition]\n",
    "    new_centroids = centroids[condition]\n",
    "    \n",
    "    if len(new_centroids) == 0:\n",
    "        return None, None\n",
    "    \n",
    "    if prev_stats is None:\n",
    "        stats = {\n",
    "            \"local\"  : new_stats,\n",
    "            \"global\" : new_stats\n",
    "        }\n",
    "        centroids = new_centroids\n",
    "    else:\n",
    "        global_stats = np.copy(new_stats)\n",
    "        for crop_i in range(len(global_stats)):\n",
    "            global_stats[crop_i,:2] += prev_stats[:2]\n",
    "        stats = {\n",
    "            \"local\"  : new_stats,\n",
    "            \"global\" : global_stats\n",
    "        }\n",
    "        centroids = new_centroids\n",
    "        for centroid_i in range(len(centroids)):\n",
    "            centroids[centroid_i][0] += prev_stats[0]\n",
    "            centroids[centroid_i][1] += prev_stats[1]\n",
    "        \n",
    "    return stats, centroids"
   ]
  },
  {
   "cell_type": "markdown",
   "metadata": {},
   "source": [
    "# Crop Image"
   ]
  },
  {
   "cell_type": "code",
   "execution_count": 207,
   "metadata": {
    "ExecuteTime": {
     "end_time": "2019-03-29T16:49:20.399927Z",
     "start_time": "2019-03-29T16:49:20.366586Z"
    }
   },
   "outputs": [],
   "source": [
    "def crop_bees(img, stats):\n",
    "    src_img = np.copy(img)\n",
    "    cropped_imgs = []\n",
    "    for stat in stats:\n",
    "        top_left_x, top_left_y = stat[:2]\n",
    "        h,w = stat[2:4]\n",
    "        bottom_right = (top_left_x+h, top_left_y+w)\n",
    "        cropped_img = src_img[top_left_y:top_left_y+w, top_left_x:top_left_x+h]\n",
    "        cropped_imgs.append(cropped_img)\n",
    "    try:\n",
    "        cropped_imgs = np.array(cropped_imgs)\n",
    "    except:\n",
    "        cropped_imgs = None\n",
    "        \n",
    "    return cropped_imgs"
   ]
  },
  {
   "cell_type": "markdown",
   "metadata": {},
   "source": [
    "# Sort and Update Bees"
   ]
  },
  {
   "cell_type": "code",
   "execution_count": 208,
   "metadata": {
    "ExecuteTime": {
     "end_time": "2019-03-29T16:49:20.697038Z",
     "start_time": "2019-03-29T16:49:20.664935Z"
    }
   },
   "outputs": [],
   "source": [
    "def sort_bees(stats, centroids):\n",
    "    good_bees = {\"stats\" : {\"global\" : [], \"local\" : []}, \"centroids\" : []}\n",
    "    bad_bees = {\"stats\" : {\"global\" : [], \"local\" : []}, \"centroids\" : []}\n",
    "    \n",
    "    for i in range(len(centroids)):\n",
    "        centroid = centroids[i]\n",
    "        local_stat = stats['local'][i]\n",
    "        global_stat = stats['global'][i]\n",
    "        area = global_stat[-1]\n",
    "        if area <= SINGLE_BEE_AREA_THRESHOLD:\n",
    "            container = good_bees\n",
    "        else:\n",
    "            container = bad_bees\n",
    "            \n",
    "        container['stats']['global'].append(global_stat)\n",
    "        container['stats']['local'].append(local_stat)\n",
    "        container['centroids'].append(centroid)\n",
    "    \n",
    "    if good_bees['stats']['global'] == []:\n",
    "        good_bees = None\n",
    "    \n",
    "    if bad_bees['stats']['global'] == []:\n",
    "        bad_bees = None\n",
    "        \n",
    "    return good_bees, bad_bees"
   ]
  },
  {
   "cell_type": "code",
   "execution_count": 304,
   "metadata": {
    "ExecuteTime": {
     "end_time": "2019-03-29T17:08:54.016956Z",
     "start_time": "2019-03-29T17:08:53.987395Z"
    }
   },
   "outputs": [],
   "source": [
    "def update_bees(container, bees, level_i=0):\n",
    "    local_bee_stats = np.array(bees['stats']['local'])\n",
    "    global_bee_stats = np.array(bees['stats']['global'])\n",
    "    bee_centroids = np.array(bees['centroids'])\n",
    "    \n",
    "    if container['stats']['local'] is not None: \n",
    "        local_bee_stats = np.concatenate([container['stats']['local'], local_bee_stats], axis=0)\n",
    "        global_bee_stats = np.concatenate([container['stats']['global'], global_bee_stats], axis=0)\n",
    "        bee_centroids = np.concatenate([container['centroids'], bee_centroids], axis=0)\n",
    "    \n",
    "    label_color = (0, 255, 0) if level_i == 0 else np.array(cmap(level_i/NUM_RECURSIONS)[:3])*255\n",
    "    # Update container\n",
    "    container['stats']['local'] = local_bee_stats\n",
    "    container['stats']['global'] = global_bee_stats\n",
    "    container['centroids'] = bee_centroids\n",
    "    container['label_color'] = label_color"
   ]
  },
  {
   "cell_type": "markdown",
   "metadata": {
    "ExecuteTime": {
     "end_time": "2019-03-29T08:05:14.577195Z",
     "start_time": "2019-03-29T08:05:14.572264Z"
    }
   },
   "source": [
    "# Main"
   ]
  },
  {
   "cell_type": "code",
   "execution_count": 305,
   "metadata": {
    "ExecuteTime": {
     "end_time": "2019-03-29T17:08:54.588115Z",
     "start_time": "2019-03-29T17:08:54.538010Z"
    }
   },
   "outputs": [],
   "source": [
    "def run(img, num_recursions):\n",
    "    # Make copy of source image\n",
    "    src_img = np.copy(img)\n",
    "    original_img = np.copy(img)\n",
    "    \n",
    "    # Initialize the overlay image\n",
    "    overlay_img = np.copy(img)\n",
    "    \n",
    "    # All good bees container\n",
    "    all_good_bees = {\"stats\" : {\"global\" : None, \"local\" : None}, \"centroids\" : None}\n",
    "    \n",
    "    # Threshold Image\n",
    "    # -------------------------------------------------\n",
    "    if LOCAL_THRESHOLDING:\n",
    "        src_img = otsu_thresholding(src_img)\n",
    "    else:\n",
    "        src_img = global_thresholding(src_img, global_threshold=GLOBAL_TRHESHOLD)\n",
    "    # -------------------------------------------------\n",
    "    \n",
    "    # Run initial connected components\n",
    "    new_stats, new_centroids = run_connected_components(src_img, min_factor=MIN_FACTOR, max_factor=MAX_FACTOR)\n",
    "    \n",
    "    # Sort results into good and bad results - bad results are recursed on\n",
    "    good_bees, bad_bees = sort_bees(new_stats, new_centroids)\n",
    "    \n",
    "    # Update good bees container\n",
    "    # If new good bees, update all good bees container\n",
    "    if good_bees is not None:\n",
    "        update_bees(all_good_bees, good_bees, level_i=0)\n",
    "\n",
    "    # Begin recursion on bad bees\n",
    "    for i in range(num_recursions):\n",
    "        # Extract stats and centroids from all bad bees\n",
    "        new_stats = bad_bees['stats']\n",
    "        new_centroids = bad_bees['centroids']\n",
    "        \n",
    "        # Crop bad bee regions from src image\n",
    "        if GLOBAL_CROP:\n",
    "            cropped_imgs = crop_bees(original_img, new_stats['global'])\n",
    "        else:\n",
    "            cropped_imgs = crop_bees(src_img, new_stats['local'])\n",
    "        \n",
    "        # Check for case where no detections pass thresholding reqs in crop\n",
    "        if cropped_imgs is None:\n",
    "            continue\n",
    "\n",
    "        # Init container for bad bees\n",
    "        new_bad_bee_batch = {\"stats\" : {\"global\" : None, \"local\" : None}, \"centroids\" : None} \n",
    "        for crop_i, cropped_img in enumerate(cropped_imgs):\n",
    "            \n",
    "            # Get centroid and stats for current bad bee crop\n",
    "            prev_centroids = new_centroids[crop_i]\n",
    "            prev_stats = {\n",
    "                \"local\"  : new_stats['local'][crop_i],\n",
    "                \"global\" : new_stats['global'][crop_i],\n",
    "            }\n",
    "            \n",
    "            # Set source image to crop img\n",
    "            src_img = np.copy(cropped_img)\n",
    "            \n",
    "            # Threshold image\n",
    "            if RECURSE_THRESHOLDING == 'local':\n",
    "                src_img = otsu_thresholding(src_img.astype(np.uint8))\n",
    "                src_img = binary_opening(src_img)\n",
    "            else:\n",
    "                src_img = global_thresholding(src_img, global_threshold=GLOBAL_TRHESHOLD)\n",
    "            \n",
    "            # Connected components\n",
    "            new_stats_i, new_centroids_i = run_connected_components(src_img, prev_stats=prev_stats['global'])\n",
    "            \n",
    "            # If no centroids are found, append bad bee final result to all good bees\n",
    "            if new_centroids_i is None:\n",
    "                prev_stats['local'] = np.expand_dims(prev_stats['local'], axis=0)\n",
    "                prev_stats['global'] = np.expand_dims(prev_stats['global'], axis=0)\n",
    "                prev_centroids = np.expand_dims(prev_centroids, axis=0)\n",
    "                bad_bees_end = {\n",
    "                    \"stats\"     : prev_stats,\n",
    "                    \"centroids\" : prev_centroids\n",
    "                }\n",
    "                update_bees(all_good_bees, bad_bees_end, level_i=i+1)\n",
    "                continue\n",
    "            \n",
    "            # Else, new connected components found\n",
    "            # Sort bees into new good and new bad\n",
    "            new_good_bees, new_bad_bees = sort_bees(new_stats_i, new_centroids_i)\n",
    "            \n",
    "            # If new good bees, update all good bees container\n",
    "            if new_good_bees is not None:\n",
    "                update_bees(all_good_bees, new_good_bees, level_i=i+1)\n",
    "                \n",
    "            # If new bad bees, update the batch_i bad bee holder\n",
    "            if new_bad_bees is not None:\n",
    "                update_bees(new_bad_bee_batch, new_bad_bees, level_i=i+1)\n",
    "\n",
    "        # Check if any new updates in bad bees - update bad bees list; otherwise, break\n",
    "        if new_bad_bee_batch['centroids'] is not None:\n",
    "            bad_bees = new_bad_bee_batch\n",
    "        else:\n",
    "            bad_bees = None\n",
    "            break\n",
    "    \n",
    "    if bad_bees is not None:\n",
    "        update_bees(all_good_bees, bad_bees, level_i=i+1)\n",
    "        \n",
    "    # Plot overlays\n",
    "    overlay_img = create_overlay_img(overlay_img, all_good_bees)\n",
    "    \n",
    "    return overlay_img\n"
   ]
  },
  {
   "cell_type": "markdown",
   "metadata": {},
   "source": [
    "# Params"
   ]
  },
  {
   "cell_type": "code",
   "execution_count": 306,
   "metadata": {
    "ExecuteTime": {
     "end_time": "2019-03-29T17:08:54.856806Z",
     "start_time": "2019-03-29T17:08:54.826232Z"
    }
   },
   "outputs": [
    {
     "data": {
      "text/plain": [
       "True"
      ]
     },
     "execution_count": 306,
     "metadata": {},
     "output_type": "execute_result"
    }
   ],
   "source": [
    "dataset_dir = \"/Users/mliuzzolino/Datasets/Bees/src_data\"\n",
    "movie_name = \"full_bees_trim_2.mp4\" # \"full_bees.mp4\", \"bees.mov\"\n",
    "video_path = f\"{dataset_dir}/PelegLab/{movie_name}\"\n",
    "os.path.exists(video_path)"
   ]
  },
  {
   "cell_type": "code",
   "execution_count": 321,
   "metadata": {
    "ExecuteTime": {
     "end_time": "2019-03-29T17:11:26.277136Z",
     "start_time": "2019-03-29T17:11:26.244092Z"
    }
   },
   "outputs": [],
   "source": [
    "slices = {\n",
    "    \"bees.mov\" : {\n",
    "        \"slice_r\" : slice(0,550),\n",
    "        \"slice_c\" : slice(100,None),\n",
    "    },\n",
    "    \"full_bees_trim.mp4\" : {\n",
    "        \"slice_r\" : slice(100,1800), \n",
    "        \"slice_c\" : slice(850, 2650)\n",
    "    },\n",
    "    \"full_bees_trim_2.mp4\" : {\n",
    "        \"slice_r\" : slice(100,1800), \n",
    "        \"slice_c\" : slice(850, 2650)\n",
    "    }\n",
    "}\n",
    "\n",
    "queen_positions = {\n",
    "    \"full_bees_trim.mp4\" : {\n",
    "        \"x\" : 1410,\n",
    "        \"y\" : 360\n",
    "    },\n",
    "    \"full_bees_trim_2.mp4\" : {\n",
    "        \"x\" : 1410,\n",
    "        \"y\" : 360\n",
    "    }\n",
    "}\n",
    "\n",
    "slice_r = slices[movie_name]['slice_r']\n",
    "slice_c = slices[movie_name]['slice_c']\n",
    "\n",
    "# Label the queen\n",
    "QUEEN_X = queen_positions[movie_name]['x']\n",
    "QUEEN_Y = queen_positions[movie_name]['y']\n",
    "\n",
    "START_I = 0\n",
    "STOP_I = 500\n",
    "\n",
    "SINGLE_BEE_AREA_THRESHOLD = 400\n",
    "\n",
    "LOCAL_THRESHOLDING = False\n",
    "GLOBAL_CROP = True\n",
    "RECURSE_THRESHOLDING = 'local' # global, local\n",
    "NUM_RECURSIONS = 4\n",
    "cmap = plt.cm.cool\n",
    "\n",
    "MIN_FACTOR = 0.0001\n",
    "MAX_FACTOR = 0.025\n",
    "BOX_SIZE = 2\n",
    "DOT_SIZE = 5\n",
    "GLOBAL_TRHESHOLD = 75\n",
    "\n",
    "SHOW_BOXES = True\n",
    "SHOW_DOTS = True\n",
    "SHOW_LINES = False\n",
    "SHOW_TEXT = True\n",
    "SHOW_MAIN_TEXT = True\n",
    "LINE_THICKNESS = 1\n",
    "FONT = cv2.FONT_HERSHEY_SIMPLEX\n",
    "FONT_SIZE = 1\n",
    "\n",
    "NUM_ITERS = 10"
   ]
  },
  {
   "cell_type": "markdown",
   "metadata": {},
   "source": [
    "# Run"
   ]
  },
  {
   "cell_type": "code",
   "execution_count": 322,
   "metadata": {
    "ExecuteTime": {
     "end_time": "2019-03-29T17:13:22.465620Z",
     "start_time": "2019-03-29T17:11:27.220466Z"
    }
   },
   "outputs": [
    {
     "name": "stdout",
     "output_type": "stream",
     "text": [
      "Image 500"
     ]
    },
    {
     "data": {
      "text/plain": [
       "500"
      ]
     },
     "execution_count": 322,
     "metadata": {},
     "output_type": "execute_result"
    }
   ],
   "source": [
    "try:\n",
    "    # Instantiate video streamer\n",
    "    vid = utils.VideoLoader(video_path) \n",
    "\n",
    "    overlay_imgs = []\n",
    "    for img_i, img in enumerate(vid):\n",
    "        # Check if image in desired bounds\n",
    "        # -----------------------------------\n",
    "        if img_i < START_I:\n",
    "            sys.stdout.write('\\rWaiting...')\n",
    "            sys.stdout.flush()\n",
    "            continue\n",
    "        elif img_i >= STOP_I:\n",
    "            break\n",
    "        # -----------------------------------\n",
    "        \n",
    "        # Slice image\n",
    "        img = img[slice_r, slice_c]\n",
    "        \n",
    "        # Convert to gray-scale\n",
    "        img = cv2.cvtColor(img, cv2.COLOR_BGR2GRAY)\n",
    "        \n",
    "        # Run image processing\n",
    "        try:\n",
    "            overlay_img = run(img, num_recursions=NUM_RECURSIONS) \n",
    "        except Exception as e:\n",
    "            assert False, e\n",
    "            print(f\"\\n**E: {e}\\n\")\n",
    "        finally:\n",
    "            # convert to bgr and append to container\n",
    "            overlay_img = cv2.cvtColor(overlay_img, cv2.COLOR_RGB2BGR)\n",
    "            overlay_imgs.append(overlay_img)\n",
    "        \n",
    "        # Stdout\n",
    "        sys.stdout.write(f'\\rImage {img_i+1}')\n",
    "        sys.stdout.flush()\n",
    "        \n",
    "except KeyboardInterrupt:\n",
    "    print(\"\\nKeyboard Interrupt. Finished.\")\n",
    "\n",
    "    \n",
    "len(overlay_imgs)"
   ]
  },
  {
   "cell_type": "markdown",
   "metadata": {},
   "source": [
    "# Save to Video"
   ]
  },
  {
   "cell_type": "code",
   "execution_count": 323,
   "metadata": {
    "ExecuteTime": {
     "end_time": "2019-03-29T17:18:44.886124Z",
     "start_time": "2019-03-29T17:18:28.132752Z"
    }
   },
   "outputs": [],
   "source": [
    "write_vid_path = \"processed_vids\"\n",
    "utils.imgs2vid(overlay_imgs, f\"{write_vid_path}/{movie_name}\")"
   ]
  },
  {
   "cell_type": "code",
   "execution_count": 324,
   "metadata": {
    "ExecuteTime": {
     "end_time": "2019-03-29T17:18:45.452842Z",
     "start_time": "2019-03-29T17:18:45.178302Z"
    }
   },
   "outputs": [],
   "source": [
    "!open $write_vid_path"
   ]
  },
  {
   "cell_type": "code",
   "execution_count": null,
   "metadata": {},
   "outputs": [],
   "source": []
  },
  {
   "cell_type": "code",
   "execution_count": null,
   "metadata": {},
   "outputs": [],
   "source": []
  },
  {
   "cell_type": "code",
   "execution_count": null,
   "metadata": {},
   "outputs": [],
   "source": []
  }
 ],
 "metadata": {
  "kernelspec": {
   "display_name": "Python 3",
   "language": "python",
   "name": "python3"
  },
  "language_info": {
   "codemirror_mode": {
    "name": "ipython",
    "version": 3
   },
   "file_extension": ".py",
   "mimetype": "text/x-python",
   "name": "python",
   "nbconvert_exporter": "python",
   "pygments_lexer": "ipython3",
   "version": "3.7.2"
  },
  "toc": {
   "base_numbering": 1,
   "nav_menu": {},
   "number_sections": true,
   "sideBar": true,
   "skip_h1_title": false,
   "title_cell": "Table of Contents",
   "title_sidebar": "Contents",
   "toc_cell": false,
   "toc_position": {
    "height": "calc(100% - 180px)",
    "left": "10px",
    "top": "150px",
    "width": "336px"
   },
   "toc_section_display": true,
   "toc_window_display": true
  },
  "varInspector": {
   "cols": {
    "lenName": 16,
    "lenType": 16,
    "lenVar": 40
   },
   "kernels_config": {
    "python": {
     "delete_cmd_postfix": "",
     "delete_cmd_prefix": "del ",
     "library": "var_list.py",
     "varRefreshCmd": "print(var_dic_list())"
    },
    "r": {
     "delete_cmd_postfix": ") ",
     "delete_cmd_prefix": "rm(",
     "library": "var_list.r",
     "varRefreshCmd": "cat(var_dic_list()) "
    }
   },
   "types_to_exclude": [
    "module",
    "function",
    "builtin_function_or_method",
    "instance",
    "_Feature"
   ],
   "window_display": false
  }
 },
 "nbformat": 4,
 "nbformat_minor": 2
}
